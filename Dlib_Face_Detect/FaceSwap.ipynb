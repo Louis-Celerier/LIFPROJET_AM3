{
 "cells": [
  {
   "cell_type": "code",
   "execution_count": 1,
   "metadata": {
    "collapsed": true
   },
   "outputs": [],
   "source": [
    "import cv2\n",
    "import numpy as np\n",
    "import dlib"
   ]
  },
  {
   "cell_type": "code",
   "execution_count": 2,
   "outputs": [],
   "source": [
    "detector = dlib.get_frontal_face_detector()\n",
    "predictor = dlib.shape_predictor(\"ressources/shape_predictor_68_face_landmarks.dat\")\n",
    "#src = cv2.imread('ressources/training-originals/0002_1.jpg', 0)\n",
    "src = cv2.imread('ressources/training-originals/0000_00000001.jpg')\n",
    "target = cv2.imread('ressources/training-originals/0001_00000001.jpg', 0)\n"
   ],
   "metadata": {
    "collapsed": false,
    "pycharm": {
     "name": "#%%\n"
    }
   }
  },
  {
   "cell_type": "code",
   "execution_count": 3,
   "outputs": [],
   "source": [
    "width = 640\n",
    "height = 360\n",
    "src = cv2.resize(src, (width, height))\n",
    "gray_src = cv2.cvtColor(src, cv2.COLOR_BGR2GRAY)\n",
    "target = cv2.resize(target, (width, height))\n",
    "\n",
    "mask = np.zeros_like(gray_src)"
   ],
   "metadata": {
    "collapsed": false,
    "pycharm": {
     "name": "#%%\n"
    }
   }
  },
  {
   "cell_type": "code",
   "execution_count": null,
   "outputs": [],
   "source": [
    "face = detector(gray_src)\n",
    "for point in face:\n",
    "    print('1 fois')\n",
    "    landmarks = predictor(gray_src, point)\n",
    "    points = []\n",
    "    for n in range(0, 68):\n",
    "        x = landmarks.part(n).x\n",
    "        y = landmarks.part(n).y\n",
    "        points.append((x, y))\n",
    "        #cv2.circle(src, (x, y), 4, (255, 0, 0), -1)\n",
    "\n",
    "    points = np.array(points, np.int32)\n",
    "    convexHull = cv2.convexHull(points)\n",
    "    #cv2.polylines(src, [convexHull], True, (255,0,0), 3)\n",
    "    # Creating mask\n",
    "    cv2.fillConvexPoly(mask, convexHull, 255)\n",
    "\n",
    "    face_src = cv2.bitwise_and(src, src, mask=mask)\n",
    "\n",
    "    #Triangulation\n",
    "    rect = cv2.boundingRect(convexHull)\n",
    "    subdiv = cv2.Subdiv2D(rect)\n",
    "    subdiv.insert(points)\n",
    "    triangles = subdiv.getTriangleList()\n",
    "    triangles = np.array(triangles, dtype=np.int32)\n",
    "\n",
    "    for t in triangles:\n",
    "        p1 = (t[0], t[1])\n",
    "        p2 = (t[2], t[3])\n",
    "        p3 = (t[4], t[5])\n",
    "\n",
    "        cv2.line(face_src, p1, p2, (255,0,0), 2)\n",
    "        cv2.line(face_src, p3, p2, (255,0,0), 2)\n",
    "        cv2.line(face_src, p1, p3, (255,0,0), 2)"
   ],
   "metadata": {
    "collapsed": false,
    "pycharm": {
     "name": "#%%\n",
     "is_executing": true
    }
   }
  },
  {
   "cell_type": "code",
   "execution_count": null,
   "outputs": [],
   "source": [
    "#Showing img\n",
    "while True:\n",
    "    cv2.imshow(\"mask\", face_src)\n",
    "    key = cv2.waitKey(1)\n",
    "    if key == 27:\n",
    "        break"
   ],
   "metadata": {
    "collapsed": false,
    "pycharm": {
     "name": "#%%\n"
    }
   }
  }
 ],
 "metadata": {
  "kernelspec": {
   "name": "python3",
   "language": "python",
   "display_name": "Python 3"
  },
  "language_info": {
   "codemirror_mode": {
    "name": "ipython",
    "version": 2
   },
   "file_extension": ".py",
   "mimetype": "text/x-python",
   "name": "python",
   "nbconvert_exporter": "python",
   "pygments_lexer": "ipython2",
   "version": "2.7.6"
  }
 },
 "nbformat": 4,
 "nbformat_minor": 0
}