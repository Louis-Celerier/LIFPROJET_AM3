{
 "cells": [
  {
   "cell_type": "code",
   "execution_count": 1,
   "metadata": {},
   "outputs": [],
   "source": [
    "import cv2\n",
    "import numpy as np\n",
    "import dlib"
   ]
  },
  {
   "cell_type": "code",
   "execution_count": 2,
   "metadata": {
    "pycharm": {
     "name": "#%%\n"
    }
   },
   "outputs": [],
   "source": [
    "detector = dlib.get_frontal_face_detector()\n",
    "predictor = dlib.shape_predictor(\"ressources/shape_predictor_81_face_landmarks.dat\")\n",
    "src = cv2.imread('ressources/training-originals/0000_00000001.jpg')\n",
    "target = cv2.imread('ressources/training-originals/0001_00000001.jpg')"
   ]
  },
  {
   "cell_type": "code",
   "execution_count": 3,
   "metadata": {},
   "outputs": [],
   "source": [
    "def get_landmarks(face, gray_img):\n",
    "    landmarks = predictor(gray_img, face)\n",
    "    points_landmarks = []\n",
    "    for n in range(0, landmarks.num_parts):\n",
    "        x = landmarks.part(n).x\n",
    "        y = landmarks.part(n).y\n",
    "        points_landmarks.append((x, y))\n",
    "    return points_landmarks"
   ]
  },
  {
   "cell_type": "code",
   "execution_count": 4,
   "metadata": {},
   "outputs": [],
   "source": [
    "def extract_index_nparray(nparray):\n",
    "    index = None\n",
    "    for num in nparray[0]:\n",
    "        index = num\n",
    "        break\n",
    "    return index"
   ]
  },
  {
   "cell_type": "code",
   "execution_count": 5,
   "metadata": {},
   "outputs": [],
   "source": [
    "def triangulation_point(triangle_id, points_landmarks, points, target=False):\n",
    "    t_p1 = points_landmarks[triangle_id[0]]\n",
    "    t_p2 = points_landmarks[triangle_id[1]]\n",
    "    t_p3 = points_landmarks[triangle_id[2]]\n",
    "    triangle = np.array([t_p1, t_p2, t_p3], np.int32)\n",
    "\n",
    "    (x, y, w, h) = cv2.boundingRect(triangle)        \n",
    "    cropped_t_mask = np.zeros((h, w), np.uint8)\n",
    "\n",
    "    points = np.array([[t_p1[0] - x, t_p1[1] - y],\n",
    "                       [t_p2[0] - x, t_p2[1] - y],\n",
    "                       [t_p3[0] - x, t_p3[1] - y]], np.int32)\n",
    "\n",
    "    cv2.fillConvexPoly(cropped_t_mask, points, 255)\n",
    "\n",
    "    if(not target):\n",
    "        cropped_triangle = src[y: y + h, x: x + w]\n",
    "        return (points, cropped_triangle)\n",
    "    else:\n",
    "        return (points, cropped_t_mask, x, y, w, h)"
   ]
  },
  {
   "cell_type": "code",
   "execution_count": 6,
   "metadata": {},
   "outputs": [],
   "source": [
    "gray_src = cv2.cvtColor(src, cv2.COLOR_BGR2GRAY)\n",
    "gray_target = cv2.cvtColor(target, cv2.COLOR_BGR2GRAY)\n",
    "mask = np.zeros_like(gray_src)\n",
    "height, width, channels = target.shape\n",
    "new_face = np.zeros((height, width, channels), np.uint8)"
   ]
  },
  {
   "cell_type": "code",
   "execution_count": 7,
   "metadata": {},
   "outputs": [],
   "source": [
    "# Source\n",
    "faces = detector(gray_src)\n",
    "for f in faces:\n",
    "    points_landmarks = get_landmarks(f, gray_src)\n",
    "    points = np.array(points_landmarks, np.int32)\n",
    "    convexhull = cv2.convexHull(points)\n",
    "    \n",
    "    # Creation du mask\n",
    "    cv2.fillConvexPoly(mask, convexhull, 255)\n",
    "\n",
    "    face_src = cv2.bitwise_and(src, src, mask=mask)\n",
    "\n",
    "    # Triangulation de Delaunay\n",
    "    rect = cv2.boundingRect(convexhull)\n",
    "    subdiv = cv2.Subdiv2D(rect)\n",
    "    subdiv.insert(points_landmarks)\n",
    "    triangles = subdiv.getTriangleList()\n",
    "    triangles = np.array(triangles, dtype=np.int32)\n",
    "\n",
    "    triangles_ids = []\n",
    "    for t in triangles:\n",
    "        p1 = (t[0], t[1])\n",
    "        p2 = (t[2], t[3])\n",
    "        p3 = (t[4], t[5])\n",
    "\n",
    "        id_p1 = np.where((points == p1).all(axis=1))\n",
    "        id_p1 = extract_index_nparray(id_p1)\n",
    "\n",
    "        id_p2 = np.where((points == p2).all(axis=1))\n",
    "        id_p2 = extract_index_nparray(id_p2)\n",
    "\n",
    "        id_p3 = np.where((points == p3).all(axis=1))\n",
    "        id_p3 = extract_index_nparray(id_p3)\n",
    "        \n",
    "        if id_p1 is not None and id_p2 is not None and id_p3 is not None:\n",
    "            triangles_ids.append([id_p1, id_p2, id_p3])"
   ]
  },
  {
   "cell_type": "code",
   "execution_count": 8,
   "metadata": {
    "pycharm": {
     "name": "#%%\n"
    }
   },
   "outputs": [],
   "source": [
    "# Target\n",
    "faces2 = detector(gray_target)\n",
    "for f in faces2:\n",
    "    points_landmarks2 = get_landmarks(f, gray_target)\n",
    "    points2 = np.array(points_landmarks2, np.int32)\n",
    "    convexhull2 = cv2.convexHull(points2)"
   ]
  },
  {
   "cell_type": "code",
   "execution_count": 9,
   "metadata": {
    "pycharm": {
     "is_executing": true,
     "name": "#%%\n"
    }
   },
   "outputs": [],
   "source": [
    "# Triangulation des 2 faces\n",
    "for triangle_id in triangles_ids:\n",
    "    # 1ere Face\n",
    "    (points, cropped_triangle) = triangulation_point(triangle_id, points_landmarks, points)\n",
    "\n",
    "    # 2eme Face\n",
    "    (points2, cropped_t2_mask, x, y, w, h) = triangulation_point(triangle_id, points_landmarks2, points2, True)\n",
    "\n",
    "    # Deformation des triangles\n",
    "    points = np.float32(points)\n",
    "    points2 = np.float32(points2)\n",
    "    matrix = cv2.getAffineTransform(points, points2)\n",
    "    triangle_warped = cv2.warpAffine(cropped_triangle, matrix, (w, h))\n",
    "    triangle_warped = cv2.bitwise_and(triangle_warped, triangle_warped, mask=cropped_t2_mask)\n",
    "\n",
    "    # Reconstruction des points\n",
    "    new_face_rect_area = new_face[y: y + h, x: x + w]\n",
    "    gray_new_face_rect_area = cv2.cvtColor(new_face_rect_area, cv2.COLOR_BGR2GRAY)\n",
    "    _, mask_triangles_designed = cv2.threshold(gray_new_face_rect_area, 1, 255, cv2.THRESH_BINARY_INV)\n",
    "    triangle_warped = cv2.bitwise_and(triangle_warped, triangle_warped, mask=mask_triangles_designed)\n",
    "    new_face_rect_area = cv2.add(new_face_rect_area, triangle_warped)\n",
    "    new_face[y: y + h, x: x + w] = new_face_rect_area"
   ]
  },
  {
   "cell_type": "code",
   "execution_count": 10,
   "metadata": {
    "pycharm": {
     "name": "#%%\n"
    }
   },
   "outputs": [],
   "source": [
    "# FaceSwaping\n",
    "mask_target_face = np.zeros_like(gray_target)\n",
    "mask_target_head = cv2.fillConvexPoly(mask_target_face, convexhull2, 255)\n",
    "mask_target_face = cv2.bitwise_not(mask_target_head)\n",
    "\n",
    "noface_target_head = cv2.bitwise_and(target, target, mask=mask_target_face)\n",
    "result = cv2.add(noface_target_head, new_face)\n",
    "(x, y, w, h) = cv2.boundingRect(convexhull2)\n",
    "center_face = (int((x + x + w) / 2), int((y + y + h) / 2))\n",
    "\n",
    "target_with_color = cv2.seamlessClone(result, target, mask_target_head, center_face, cv2.MIXED_CLONE)"
   ]
  },
  {
   "cell_type": "code",
   "execution_count": 11,
   "metadata": {},
   "outputs": [],
   "source": [
    "while True:\n",
    "    cv2.imshow(\"FaceSwap\", target_with_color)\n",
    "    key = cv2.waitKey(1)\n",
    "    if key == 27:\n",
    "        break\n",
    "cv2.destroyAllWindows()"
   ]
  }
 ],
 "metadata": {
  "kernelspec": {
   "display_name": "Python 3",
   "language": "python",
   "name": "python3"
  },
  "language_info": {
   "codemirror_mode": {
    "name": "ipython",
    "version": 3
   },
   "file_extension": ".py",
   "mimetype": "text/x-python",
   "name": "python",
   "nbconvert_exporter": "python",
   "pygments_lexer": "ipython3",
   "version": "3.8.5"
  }
 },
 "nbformat": 4,
 "nbformat_minor": 4
}
